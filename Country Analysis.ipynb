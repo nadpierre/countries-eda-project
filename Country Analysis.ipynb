{
 "cells": [
  {
   "cell_type": "markdown",
   "id": "c281ee42-e8f4-41a6-8c97-5f871dbad901",
   "metadata": {},
   "source": [
    "# Countries Explorative Data Analysis (EDA)"
   ]
  },
  {
   "cell_type": "markdown",
   "id": "ed200c96-a762-4bc8-b661-e5cee5d3bf5f",
   "metadata": {},
   "source": [
    "## Overview\n",
    "The data contains information about all the 195 countries in the world.\n",
    "The data can help analyze the population, area, and different details about the countries"
   ]
  },
  {
   "cell_type": "markdown",
   "id": "541600c0-f02a-4b0e-86bf-1e989020c99e",
   "metadata": {},
   "source": [
    "## Questions and Analysis\n",
    "1. What is the population distribution?\n",
    "2. What is the most and least populated country?\n",
    "3. What is the most and least populated continent?\n",
    "4. What is the country with the largest and smallest average area?\n",
    "5. What is the continent with the largest and smallest average area?\n",
    "6. What is the country with the most inequality of wealth?\n",
    "7. What is the continent with the most/least equality of wealth?\n",
    "8. What is the most spoken language in the world?\n",
    "9. How many countries drive on the left side?\n",
    "10. How many countries are still not independant?\n",
    "11. What is the continent with the most countries?\n",
    "12. What country got his independence last?"
   ]
  },
  {
   "cell_type": "code",
   "execution_count": null,
   "id": "a96056a8-b7c7-46bd-928f-3a84ea305f38",
   "metadata": {},
   "outputs": [],
   "source": []
  }
 ],
 "metadata": {
  "kernelspec": {
   "display_name": "Python 3 (ipykernel)",
   "language": "python",
   "name": "python3"
  },
  "language_info": {
   "codemirror_mode": {
    "name": "ipython",
    "version": 3
   },
   "file_extension": ".py",
   "mimetype": "text/x-python",
   "name": "python",
   "nbconvert_exporter": "python",
   "pygments_lexer": "ipython3",
   "version": "3.12.4"
  }
 },
 "nbformat": 4,
 "nbformat_minor": 5
}
